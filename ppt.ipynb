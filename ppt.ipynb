{
  "metadata": {
    "language_info": {
      "codemirror_mode": {
        "name": "python",
        "version": 3
      },
      "file_extension": ".py",
      "mimetype": "text/x-python",
      "name": "python",
      "nbconvert_exporter": "python",
      "pygments_lexer": "ipython3",
      "version": "3.8"
    },
    "kernelspec": {
      "name": "python",
      "display_name": "Python (Pyodide)",
      "language": "python"
    }
  },
  "nbformat_minor": 4,
  "nbformat": 4,
  "cells": [
    {
      "cell_type": "code",
      "source": "a=[]\na.append(11)\na.append(22)\na.append(33)\na.append(55)\na.append(66)\na.pop()\na.pop()\ntop=a[-1]\nprint(top)",
      "metadata": {
        "trusted": true
      },
      "execution_count": 2,
      "outputs": [
        {
          "name": "stdout",
          "text": "33\n",
          "output_type": "stream"
        }
      ]
    },
    {
      "cell_type": "code",
      "source": "a=[]\na.append(1)\na.append(2)\na.append(3)\na.append(4)\na.append(5)\nb=[]\nfor i in a[0:5]:\n    b.append(a.pop())\nprint(b.pop())\nprint(b.pop())\nprint(b.pop())\nprint(b.pop())\nprint(b.pop())",
      "metadata": {
        "trusted": true
      },
      "execution_count": 4,
      "outputs": [
        {
          "name": "stdout",
          "text": "1\n2\n3\n4\n5\n",
          "output_type": "stream"
        }
      ]
    },
    {
      "cell_type": "code",
      "source": "s1=[]\ns1.append(26)\ns1.append(45)\ns1.append(12)\ns1.append(10)\ns1.append(4)\ns2=[]\nmid=len(s1)//2\nfor i in range(mid):\n    s2.append(s1.pop())\ns1.pop()\nfor i in range(len(s2)):\n    s1.append(s2.pop())\nfor i in range(len(s1)):\n    print(s1.pop())",
      "metadata": {
        "trusted": true
      },
      "execution_count": 5,
      "outputs": [
        {
          "name": "stdout",
          "text": "4\n10\n45\n26\n",
          "output_type": "stream"
        }
      ]
    },
    {
      "cell_type": "code",
      "source": "open_list = [\"[\",\"{\",\"(\"]\nclose_list = [\"]\",\"}\",\")\"]\n\ndef check(myStr):\n    stack = []\n    for i in myStr:\n        if i in open_list:\n            stack.append(i)\n        elif i in close_list:\n            pos = close_list.index(i)\n            if ((len(stack) > 0) and\n                (open_list[pos] == stack[len(stack)-1])):\n                stack.pop()\n            else:\n                return \"Unbalanced\"\n    if len(stack) == 0:\n        return \"Balanced\"\n    else:\n        return \"Unbalanced\"\n\nstring = \"{[]{()}}\"\nprint(string,\"-\", check(string))\n \nstring = \"[{}{})(]\"\nprint(string,\"-\", check(string))\n \nstring = \"((()\"\nprint(string,\"-\",check(string))",
      "metadata": {
        "trusted": true
      },
      "execution_count": 8,
      "outputs": [
        {
          "name": "stdout",
          "text": "{[]{()}} - Balanced\n[{}{})(] - Unbalanced\n((() - Unbalanced\n",
          "output_type": "stream"
        }
      ]
    },
    {
      "cell_type": "code",
      "source": "",
      "metadata": {},
      "execution_count": null,
      "outputs": []
    }
  ]
}